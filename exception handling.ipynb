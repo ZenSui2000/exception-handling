{
 "cells": [
  {
   "cell_type": "code",
   "execution_count": 1,
   "id": "61c65787-fe2f-4a3b-bc49-0dda4e534851",
   "metadata": {},
   "outputs": [
    {
     "ename": "SyntaxError",
     "evalue": "unterminated string literal (detected at line 2) (3556757114.py, line 2)",
     "output_type": "error",
     "traceback": [
      "\u001b[0;36m  Cell \u001b[0;32mIn[1], line 2\u001b[0;36m\u001b[0m\n\u001b[0;31m    An Exception is an event that occurs during the program execution and disrupts the normal flow of the program's execution\u001b[0m\n\u001b[0m                                                                                                                 ^\u001b[0m\n\u001b[0;31mSyntaxError\u001b[0m\u001b[0;31m:\u001b[0m unterminated string literal (detected at line 2)\n"
     ]
    }
   ],
   "source": [
    "An exception is a Python object that represents an error. \n",
    "An Exception is an event that occurs during the program execution and disrupts the normal flow of the program's execution\n",
    "Errors mostly happen at compile-time like syntax error; however it can happen at runtime as well. Whereas an Exception occurs at runtime (checked exceptions can be detected at compile time)"
   ]
  },
  {
   "cell_type": "code",
   "execution_count": 2,
   "id": "88e7c681-b47b-41fb-ad77-501047ef3c85",
   "metadata": {},
   "outputs": [
    {
     "ename": "SyntaxError",
     "evalue": "invalid syntax (1582185160.py, line 1)",
     "output_type": "error",
     "traceback": [
      "\u001b[0;36m  Cell \u001b[0;32mIn[2], line 1\u001b[0;36m\u001b[0m\n\u001b[0;31m    When an exception is not handled then the runtime system will abort the program (i.e. crash) and an exception message will print to the console.\u001b[0m\n\u001b[0m         ^\u001b[0m\n\u001b[0;31mSyntaxError\u001b[0m\u001b[0;31m:\u001b[0m invalid syntax\n"
     ]
    }
   ],
   "source": [
    "When an exception is not handled then the runtime system will abort the program (i.e. crash) and an exception message will print to the console.\n",
    "\n",
    "class purchase\n",
    "\n",
    "amount = 5000\n",
    "\n",
    "if amount > 2500\n",
    "\n",
    "print \"you are eligible to purchase data science course\""
   ]
  },
  {
   "cell_type": "code",
   "execution_count": 3,
   "id": "661d4120-c375-46a0-9c96-3c6610e25641",
   "metadata": {},
   "outputs": [
    {
     "ename": "SyntaxError",
     "evalue": "invalid character '“' (U+201C) (2910096266.py, line 2)",
     "output_type": "error",
     "traceback": [
      "\u001b[0;36m  Cell \u001b[0;32mIn[3], line 2\u001b[0;36m\u001b[0m\n\u001b[0;31m    Python executes code following the try statement as a “normal” part of the program.\u001b[0m\n\u001b[0m                                                          ^\u001b[0m\n\u001b[0;31mSyntaxError\u001b[0m\u001b[0;31m:\u001b[0m invalid character '“' (U+201C)\n"
     ]
    }
   ],
   "source": [
    "The try and except block in Python is used to catch and handle exceptions.\n",
    "Python executes code following the try statement as a “normal” part of the program.\n",
    "\n",
    "class purchase\n",
    "\n",
    "amount = 5000\n",
    "\n",
    "if amount > 2500\n",
    "\n",
    "print \"you are eligible to purchase data science course\""
   ]
  },
  {
   "cell_type": "code",
   "execution_count": 9,
   "id": "0199d8d4-19b3-4d1b-a633-e738377aa51f",
   "metadata": {},
   "outputs": [
    {
     "name": "stdout",
     "output_type": "stream",
     "text": [
      "Yeah ! Your answer is : 1\n",
      "Sorry ! You are dividing by zero \n"
     ]
    }
   ],
   "source": [
    "def divide(x, y):\n",
    "\ttry:\n",
    "\t\tresult = x // y\n",
    "\texcept ZeroDivisionError:\n",
    "\t\tprint(\"Sorry ! You are dividing by zero \")\n",
    "\telse:\n",
    "\t\tprint(\"Yeah ! Your answer is :\", result)\n",
    "\n",
    "divide(3, 2)\n",
    "divide(3, 0)"
   ]
  },
  {
   "cell_type": "code",
   "execution_count": 10,
   "id": "e1fb293c-ca19-420e-bd33-2c36a8027487",
   "metadata": {},
   "outputs": [
    {
     "name": "stdout",
     "output_type": "stream",
     "text": [
      "Yeah ! Your answer is : 1\n",
      "This is always executed\n",
      "Sorry ! You are dividing by zero \n",
      "This is always executed\n"
     ]
    }
   ],
   "source": [
    "def divide(x, y):\n",
    "\ttry:\n",
    "\t\tresult = x // y\n",
    "\texcept ZeroDivisionError:\n",
    "\t\tprint(\"Sorry ! You are dividing by zero \")\n",
    "\telse:\n",
    "\t\tprint(\"Yeah ! Your answer is :\", result)\n",
    "\tfinally:\n",
    "\t\t\n",
    "\t\tprint('This is always executed')\n",
    "\n",
    "divide(3, 2)\n",
    "divide(3, 0)"
   ]
  },
  {
   "cell_type": "code",
   "execution_count": 15,
   "id": "e44ccd06-6e8b-466e-b41c-7e7ffa1db9a8",
   "metadata": {},
   "outputs": [
    {
     "ename": "Exception",
     "evalue": "one numbers below zero",
     "output_type": "error",
     "traceback": [
      "\u001b[0;31m---------------------------------------------------------------------------\u001b[0m",
      "\u001b[0;31mException\u001b[0m                                 Traceback (most recent call last)",
      "Cell \u001b[0;32mIn[15], line 3\u001b[0m\n\u001b[1;32m      1\u001b[0m x \u001b[38;5;241m=\u001b[39m \u001b[38;5;241m1\u001b[39m\n\u001b[1;32m      2\u001b[0m \u001b[38;5;28;01mif\u001b[39;00m x \u001b[38;5;241m<\u001b[39m \u001b[38;5;241m2\u001b[39m:\n\u001b[0;32m----> 3\u001b[0m       \u001b[38;5;28;01mraise\u001b[39;00m \u001b[38;5;167;01mException\u001b[39;00m(\u001b[38;5;124m\"\u001b[39m\u001b[38;5;124mone numbers below zero\u001b[39m\u001b[38;5;124m\"\u001b[39m)\n",
      "\u001b[0;31mException\u001b[0m: one numbers below zero"
     ]
    }
   ],
   "source": [
    "x = 1\n",
    "if x < 2:\n",
    "      raise Exception(\"one numbers below zero\")"
   ]
  },
  {
   "cell_type": "code",
   "execution_count": 16,
   "id": "4d578b6b-e4ee-4709-8d8c-4c8172cc3d1f",
   "metadata": {},
   "outputs": [
    {
     "ename": "SyntaxError",
     "evalue": "invalid syntax (2927162797.py, line 1)",
     "output_type": "error",
     "traceback": [
      "\u001b[0;36m  Cell \u001b[0;32mIn[16], line 1\u001b[0;36m\u001b[0m\n\u001b[0;31m    Like standard exception classes, custom exceptions are also classes.\u001b[0m\n\u001b[0m         ^\u001b[0m\n\u001b[0;31mSyntaxError\u001b[0m\u001b[0;31m:\u001b[0m invalid syntax\n"
     ]
    }
   ],
   "source": [
    "Like standard exception classes, custom exceptions are also classes.\n",
    "We need custom exception in python because can make your code much more readable and robust, and reduce the amount of code you write later to try and figure out what exactly went wrong.\n",
    "\n",
    "\n",
    "class MyError(Exception):\n",
    "\n",
    "\tdef __init__(self, value):\n",
    "\t\tself.value = value\n",
    "\n",
    "         def __str__(self):\n",
    "\treturn(repr(self.value))\n",
    "try:\n",
    "\traise(MyError(3*2))\n",
    "\n",
    "except MyError as error:\n",
    "\tprint('A New Exception occurred: ', error.value)"
   ]
  },
  {
   "cell_type": "code",
   "execution_count": null,
   "id": "3fd91dea-6a23-4a99-9e8f-7cf775abaa96",
   "metadata": {},
   "outputs": [],
   "source": [
    "class Error(Exception):\n",
    "\t\"\"\"Base class for other exceptions\"\"\"\n",
    "\tpass\n",
    "\n",
    "class zerodivision(Error):\n",
    "\t\"\"\"Raised when the input value is zero\"\"\"\n",
    "\tpass\n",
    "\n",
    "try:\n",
    "\ti_num = int(input(\"Enter a number: \"))\n",
    "\tif i_num == 0:\n",
    "\t\traise zerodivision\n",
    "except zerodivision:\n",
    "\tprint(\"Input value is zero, try again!\")\n",
    "\tprint()"
   ]
  },
  {
   "cell_type": "code",
   "execution_count": null,
   "id": "e570e612-7c9f-4430-85cf-e873302cddd8",
   "metadata": {},
   "outputs": [],
   "source": []
  }
 ],
 "metadata": {
  "kernelspec": {
   "display_name": "Python 3 (ipykernel)",
   "language": "python",
   "name": "python3"
  },
  "language_info": {
   "codemirror_mode": {
    "name": "ipython",
    "version": 3
   },
   "file_extension": ".py",
   "mimetype": "text/x-python",
   "name": "python",
   "nbconvert_exporter": "python",
   "pygments_lexer": "ipython3",
   "version": "3.10.8"
  }
 },
 "nbformat": 4,
 "nbformat_minor": 5
}
